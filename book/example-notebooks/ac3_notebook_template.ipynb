{
 "cells": [
  {
   "cell_type": "markdown",
   "metadata": {},
   "source": [
    "---\n",
    "authors:\n",
    "    - MB\n",
    "    - JR\n",
    "title: Template notebook\n",
    "label: template\n",
    "---\n",
    "# Your title preferably starting with *Instrument name*\n",
    "\n",
    "Author(s) of this notebook:\n",
    " - *your name*, [*institute or university*](*url*), *postal-adress*, *email-adress*\n",
    "\n",
    "This notebook is licensed under the [Creative Commons Attribution 4.0 International](http://creativecommons.org/licenses/by/4.0/ \"CC-BY-4.0\")\n",
    "\n",
    "## Dataset description\n",
    "\n",
    "**Title:**     \n",
    "\n",
    "**Authors:**\n",
    "\n",
    "**Description:**\n",
    "\n",
    "**Year:**\n",
    "\n",
    "**Institute(s):**\n",
    "\n",
    "**DOI:**\n",
    "\n",
    "**License:**    [Creative Commons Attribution 4.0 International](http://creativecommons.org/licenses/by/4.0/)\n",
    "\n",
    "## Contents of this notebook\n",
    "\n",
    "*explain here what the purpose of this notebook is*\n"
   ]
  },
  {
   "cell_type": "markdown",
   "metadata": {},
   "source": [
    "## Import relevant modules\n",
    "\n",
    "*make sure to only import absolutely necessary modules and use standard ones wherever possible*\n",
    "\n",
    "*standard modules are e.g. matplotlib, numpy, scipy, xarray, cartopy*"
   ]
  },
  {
   "cell_type": "code",
   "execution_count": null,
   "metadata": {},
   "outputs": [],
   "source": []
  },
  {
   "cell_type": "markdown",
   "metadata": {},
   "source": [
    "## Pre-processing of the data\n",
    "\n",
    "*explain what needs to be done to work with the laoded the data*"
   ]
  },
  {
   "metadata": {},
   "cell_type": "code",
   "outputs": [],
   "source": "",
   "execution_count": null
  },
  {
   "cell_type": "markdown",
   "metadata": {},
   "source": [
    "## Plotting/Analysis example\n",
    "*A common way of analysing and/or plotting the data*"
   ]
  },
  {
   "cell_type": "code",
   "execution_count": null,
   "metadata": {
    "tags": []
   },
   "outputs": [],
   "source": []
  }
 ],
 "metadata": {
  "kernelspec": {
   "display_name": "Python 3 (ipykernel)",
   "language": "python",
   "name": "python3"
  },
  "language_info": {
   "codemirror_mode": {
    "name": "ipython",
    "version": 3
   },
   "file_extension": ".py",
   "mimetype": "text/x-python",
   "name": "python",
   "nbconvert_exporter": "python",
   "pygments_lexer": "ipython3",
   "version": "3.11.2"
  }
 },
 "nbformat": 4,
 "nbformat_minor": 4
}
